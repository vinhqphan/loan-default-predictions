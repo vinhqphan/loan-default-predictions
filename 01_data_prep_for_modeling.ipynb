{
 "cells": [
  {
   "cell_type": "code",
   "execution_count": 47,
   "metadata": {},
   "outputs": [],
   "source": [
    "import numpy as np\n",
    "import pandas as pd\n",
    "import plotly.graph_objects as go\n",
    "import matplotlib.pyplot as plt\n",
    "import seaborn as sns\n",
    "sns.set_style('darkgrid')\n",
    "\n",
    "from sklearn.model_selection import train_test_split\n",
    "from sklearn.preprocessing import MinMaxScaler\n",
    "from sklearn.preprocessing import OneHotEncoder\n",
    "from sklearn.compose import ColumnTransformer\n",
    "\n",
    "pd.set_option('display.max_columns', 500)\n",
    "pd.set_option('display.max_rows', 500)"
   ]
  },
  {
   "cell_type": "code",
   "execution_count": 48,
   "metadata": {},
   "outputs": [],
   "source": [
    "df_historical_clean = pd.read_csv('/Users/vinh/FS/thesis/data/df_historical_clean.csv')"
   ]
  },
  {
   "cell_type": "code",
   "execution_count": 49,
   "metadata": {},
   "outputs": [],
   "source": [
    "df_historical_clean.loc[df_historical_clean['term'] == 36, 'term'] = 0\n",
    "df_historical_clean.loc[df_historical_clean['term'] == 60, 'term'] = 1\n",
    "df_historical_clean.loc[df_historical_clean['loan_status'] == 'Fully Paid', 'loan_status'] = 0\n",
    "df_historical_clean.loc[df_historical_clean['loan_status'] == 'Charged Off', 'loan_status'] = 1"
   ]
  },
  {
   "attachments": {},
   "cell_type": "markdown",
   "metadata": {},
   "source": [
    "----\n",
    "# Train/Validation/Test Split"
   ]
  },
  {
   "cell_type": "code",
   "execution_count": 50,
   "metadata": {},
   "outputs": [],
   "source": [
    "X = df_historical_clean.drop('loan_status', axis = 1)\n",
    "X['year'] = pd.to_datetime(X['issue_d']).dt.year\n",
    "y = df_historical_clean[['loan_status']]"
   ]
  },
  {
   "cell_type": "code",
   "execution_count": 51,
   "metadata": {},
   "outputs": [],
   "source": [
    "train_ratio = 0.70\n",
    "validation_ratio = 0.15\n",
    "test_ratio = 0.15\n",
    "\n",
    "x_train, x_test, y_train, y_test = train_test_split(X, y, test_size = 1 - train_ratio, random_state = 1337, stratify = y)\n",
    "\n",
    "x_val, x_test, y_val, y_test = train_test_split(x_test, y_test, test_size = test_ratio/(test_ratio + validation_ratio), random_state = 1337, stratify = y_test) "
   ]
  },
  {
   "attachments": {},
   "cell_type": "markdown",
   "metadata": {},
   "source": [
    "#### ---- Ensure Correct Stratification ----\n",
    "We want to stratify the state, year, and loan status to make sure that the train and test data have similar characteristics."
   ]
  },
  {
   "cell_type": "code",
   "execution_count": 52,
   "metadata": {},
   "outputs": [
    {
     "data": {
      "text/html": [
       "<div>\n",
       "<style scoped>\n",
       "    .dataframe tbody tr th:only-of-type {\n",
       "        vertical-align: middle;\n",
       "    }\n",
       "\n",
       "    .dataframe tbody tr th {\n",
       "        vertical-align: top;\n",
       "    }\n",
       "\n",
       "    .dataframe thead th {\n",
       "        text-align: right;\n",
       "    }\n",
       "</style>\n",
       "<table border=\"1\" class=\"dataframe\">\n",
       "  <thead>\n",
       "    <tr style=\"text-align: right;\">\n",
       "      <th></th>\n",
       "      <th>train</th>\n",
       "      <th>valid</th>\n",
       "      <th>test</th>\n",
       "    </tr>\n",
       "    <tr>\n",
       "      <th>addr_state</th>\n",
       "      <th></th>\n",
       "      <th></th>\n",
       "      <th></th>\n",
       "    </tr>\n",
       "  </thead>\n",
       "  <tbody>\n",
       "    <tr>\n",
       "      <th>CA</th>\n",
       "      <td>0.140187</td>\n",
       "      <td>0.141123</td>\n",
       "      <td>0.140579</td>\n",
       "    </tr>\n",
       "    <tr>\n",
       "      <th>TX</th>\n",
       "      <td>0.082652</td>\n",
       "      <td>0.082359</td>\n",
       "      <td>0.082480</td>\n",
       "    </tr>\n",
       "    <tr>\n",
       "      <th>NY</th>\n",
       "      <td>0.080466</td>\n",
       "      <td>0.080031</td>\n",
       "      <td>0.080254</td>\n",
       "    </tr>\n",
       "    <tr>\n",
       "      <th>FL</th>\n",
       "      <td>0.071537</td>\n",
       "      <td>0.071928</td>\n",
       "      <td>0.072405</td>\n",
       "    </tr>\n",
       "    <tr>\n",
       "      <th>IL</th>\n",
       "      <td>0.039019</td>\n",
       "      <td>0.039142</td>\n",
       "      <td>0.039259</td>\n",
       "    </tr>\n",
       "  </tbody>\n",
       "</table>\n",
       "</div>"
      ],
      "text/plain": [
       "               train     valid      test\n",
       "addr_state                              \n",
       "CA          0.140187  0.141123  0.140579\n",
       "TX          0.082652  0.082359  0.082480\n",
       "NY          0.080466  0.080031  0.080254\n",
       "FL          0.071537  0.071928  0.072405\n",
       "IL          0.039019  0.039142  0.039259"
      ]
     },
     "execution_count": 52,
     "metadata": {},
     "output_type": "execute_result"
    }
   ],
   "source": [
    "state_df = pd.DataFrame({'train': x_train[['addr_state']].value_counts(normalize = True),\n",
    "                         'valid': x_val[['addr_state']].value_counts(normalize = True),\n",
    "                         'test': x_test[['addr_state']].value_counts(normalize = True)})\n",
    "state_df.sort_values(by = 'train', ascending = False).head()"
   ]
  },
  {
   "cell_type": "code",
   "execution_count": 53,
   "metadata": {},
   "outputs": [
    {
     "data": {
      "text/html": [
       "<div>\n",
       "<style scoped>\n",
       "    .dataframe tbody tr th:only-of-type {\n",
       "        vertical-align: middle;\n",
       "    }\n",
       "\n",
       "    .dataframe tbody tr th {\n",
       "        vertical-align: top;\n",
       "    }\n",
       "\n",
       "    .dataframe thead th {\n",
       "        text-align: right;\n",
       "    }\n",
       "</style>\n",
       "<table border=\"1\" class=\"dataframe\">\n",
       "  <thead>\n",
       "    <tr style=\"text-align: right;\">\n",
       "      <th></th>\n",
       "      <th>train</th>\n",
       "      <th>valid</th>\n",
       "      <th>test</th>\n",
       "    </tr>\n",
       "    <tr>\n",
       "      <th>year</th>\n",
       "      <th></th>\n",
       "      <th></th>\n",
       "      <th></th>\n",
       "    </tr>\n",
       "  </thead>\n",
       "  <tbody>\n",
       "    <tr>\n",
       "      <th>2016</th>\n",
       "      <td>0.228650</td>\n",
       "      <td>0.228927</td>\n",
       "      <td>0.228069</td>\n",
       "    </tr>\n",
       "    <tr>\n",
       "      <th>2015</th>\n",
       "      <td>0.228406</td>\n",
       "      <td>0.228617</td>\n",
       "      <td>0.228507</td>\n",
       "    </tr>\n",
       "    <tr>\n",
       "      <th>2017</th>\n",
       "      <td>0.178558</td>\n",
       "      <td>0.177006</td>\n",
       "      <td>0.178265</td>\n",
       "    </tr>\n",
       "    <tr>\n",
       "      <th>2014</th>\n",
       "      <td>0.133550</td>\n",
       "      <td>0.133982</td>\n",
       "      <td>0.133600</td>\n",
       "    </tr>\n",
       "    <tr>\n",
       "      <th>2018</th>\n",
       "      <td>0.111840</td>\n",
       "      <td>0.112216</td>\n",
       "      <td>0.111343</td>\n",
       "    </tr>\n",
       "  </tbody>\n",
       "</table>\n",
       "</div>"
      ],
      "text/plain": [
       "         train     valid      test\n",
       "year                              \n",
       "2016  0.228650  0.228927  0.228069\n",
       "2015  0.228406  0.228617  0.228507\n",
       "2017  0.178558  0.177006  0.178265\n",
       "2014  0.133550  0.133982  0.133600\n",
       "2018  0.111840  0.112216  0.111343"
      ]
     },
     "execution_count": 53,
     "metadata": {},
     "output_type": "execute_result"
    }
   ],
   "source": [
    "year_df = pd.DataFrame({'train': x_train[['year']].value_counts(normalize = True),\n",
    "                        'valid': x_val[['year']].value_counts(normalize = True),\n",
    "                         'test': x_test[['year']].value_counts(normalize = True)})\n",
    "year_df.sort_values(by = 'train', ascending = False).head()"
   ]
  },
  {
   "cell_type": "code",
   "execution_count": 54,
   "metadata": {},
   "outputs": [
    {
     "name": "stdout",
     "output_type": "stream",
     "text": [
      "Train loan_status\n",
      "0              0.8023\n",
      "1              0.1977\n",
      "dtype: float64\n",
      "\n",
      "Val loan_status\n",
      "0              0.802302\n",
      "1              0.197698\n",
      "dtype: float64\n",
      "\n",
      "Test loan_status\n",
      "0              0.802298\n",
      "1              0.197702\n",
      "dtype: float64\n"
     ]
    }
   ],
   "source": [
    "print(f\"Train {y_train[['loan_status']].value_counts(normalize = True)}\\n\")\n",
    "print(f\"Val {y_val[['loan_status']].value_counts(normalize = True)}\\n\")\n",
    "print(f\"Test {y_test[['loan_status']].value_counts(normalize = True)}\")"
   ]
  },
  {
   "attachments": {},
   "cell_type": "markdown",
   "metadata": {},
   "source": [
    "----\n",
    "# Imputations"
   ]
  },
  {
   "cell_type": "code",
   "execution_count": 55,
   "metadata": {},
   "outputs": [],
   "source": [
    "def na_values_df(df):\n",
    "    '''\n",
    "    Function which creates a table describing NA values.\n",
    "\n",
    "    Arguments:\n",
    "        df: pd.DataFrame\n",
    "            Dataframe which you want to describe NA values for.\n",
    "\n",
    "    Returns:\n",
    "        Dataframe containing 3 columns which describes NA values in given df.\n",
    "    '''\n",
    "    na_val_count = df.isnull().sum()\n",
    "    na_val_percent = df.isnull().sum() / len(df)\n",
    "    na_val_type = df.dtypes\n",
    "\n",
    "    na_val_df = pd.concat([na_val_count, na_val_percent, na_val_type], axis = 1)\n",
    "    na_val_df = na_val_df.rename(columns = {0: 'na_value_count',\n",
    "                                            1: 'na_value_percent',\n",
    "                                            2: 'na_value_type'\n",
    "    })\n",
    "    na_val_df['na_value_percent'] = round(na_val_df['na_value_percent'], 5)\n",
    "    na_val_df = na_val_df.sort_values(by = 'na_value_percent', ascending = False)\n",
    "    \n",
    "    return na_val_df"
   ]
  },
  {
   "cell_type": "code",
   "execution_count": 59,
   "metadata": {},
   "outputs": [
    {
     "data": {
      "text/html": [
       "<div>\n",
       "<style scoped>\n",
       "    .dataframe tbody tr th:only-of-type {\n",
       "        vertical-align: middle;\n",
       "    }\n",
       "\n",
       "    .dataframe tbody tr th {\n",
       "        vertical-align: top;\n",
       "    }\n",
       "\n",
       "    .dataframe thead th {\n",
       "        text-align: right;\n",
       "    }\n",
       "</style>\n",
       "<table border=\"1\" class=\"dataframe\">\n",
       "  <thead>\n",
       "    <tr style=\"text-align: right;\">\n",
       "      <th></th>\n",
       "      <th>na_value_count</th>\n",
       "      <th>na_value_percent</th>\n",
       "      <th>na_value_type</th>\n",
       "    </tr>\n",
       "  </thead>\n",
       "  <tbody>\n",
       "    <tr>\n",
       "      <th>emp_length</th>\n",
       "      <td>79624</td>\n",
       "      <td>0.06451</td>\n",
       "      <td>float64</td>\n",
       "    </tr>\n",
       "    <tr>\n",
       "      <th>revol_util</th>\n",
       "      <td>919</td>\n",
       "      <td>0.00074</td>\n",
       "      <td>float64</td>\n",
       "    </tr>\n",
       "    <tr>\n",
       "      <th>dti</th>\n",
       "      <td>776</td>\n",
       "      <td>0.00063</td>\n",
       "      <td>float64</td>\n",
       "    </tr>\n",
       "    <tr>\n",
       "      <th>id</th>\n",
       "      <td>0</td>\n",
       "      <td>0.00000</td>\n",
       "      <td>int64</td>\n",
       "    </tr>\n",
       "    <tr>\n",
       "      <th>pub_rec_bankruptcies</th>\n",
       "      <td>0</td>\n",
       "      <td>0.00000</td>\n",
       "      <td>float64</td>\n",
       "    </tr>\n",
       "    <tr>\n",
       "      <th>mort_acc</th>\n",
       "      <td>0</td>\n",
       "      <td>0.00000</td>\n",
       "      <td>float64</td>\n",
       "    </tr>\n",
       "    <tr>\n",
       "      <th>application_type</th>\n",
       "      <td>0</td>\n",
       "      <td>0.00000</td>\n",
       "      <td>object</td>\n",
       "    </tr>\n",
       "    <tr>\n",
       "      <th>initial_list_status</th>\n",
       "      <td>0</td>\n",
       "      <td>0.00000</td>\n",
       "      <td>object</td>\n",
       "    </tr>\n",
       "    <tr>\n",
       "      <th>revol_bal</th>\n",
       "      <td>0</td>\n",
       "      <td>0.00000</td>\n",
       "      <td>float64</td>\n",
       "    </tr>\n",
       "    <tr>\n",
       "      <th>pub_rec</th>\n",
       "      <td>0</td>\n",
       "      <td>0.00000</td>\n",
       "      <td>float64</td>\n",
       "    </tr>\n",
       "    <tr>\n",
       "      <th>open_acc</th>\n",
       "      <td>0</td>\n",
       "      <td>0.00000</td>\n",
       "      <td>float64</td>\n",
       "    </tr>\n",
       "    <tr>\n",
       "      <th>fico_range_low</th>\n",
       "      <td>0</td>\n",
       "      <td>0.00000</td>\n",
       "      <td>float64</td>\n",
       "    </tr>\n",
       "    <tr>\n",
       "      <th>earliest_cr_line</th>\n",
       "      <td>0</td>\n",
       "      <td>0.00000</td>\n",
       "      <td>int64</td>\n",
       "    </tr>\n",
       "    <tr>\n",
       "      <th>addr_state</th>\n",
       "      <td>0</td>\n",
       "      <td>0.00000</td>\n",
       "      <td>object</td>\n",
       "    </tr>\n",
       "    <tr>\n",
       "      <th>issue_d</th>\n",
       "      <td>0</td>\n",
       "      <td>0.00000</td>\n",
       "      <td>object</td>\n",
       "    </tr>\n",
       "    <tr>\n",
       "      <th>purpose</th>\n",
       "      <td>0</td>\n",
       "      <td>0.00000</td>\n",
       "      <td>object</td>\n",
       "    </tr>\n",
       "    <tr>\n",
       "      <th>verification_status</th>\n",
       "      <td>0</td>\n",
       "      <td>0.00000</td>\n",
       "      <td>object</td>\n",
       "    </tr>\n",
       "    <tr>\n",
       "      <th>annual_inc</th>\n",
       "      <td>0</td>\n",
       "      <td>0.00000</td>\n",
       "      <td>float64</td>\n",
       "    </tr>\n",
       "    <tr>\n",
       "      <th>home_ownership</th>\n",
       "      <td>0</td>\n",
       "      <td>0.00000</td>\n",
       "      <td>object</td>\n",
       "    </tr>\n",
       "    <tr>\n",
       "      <th>installment</th>\n",
       "      <td>0</td>\n",
       "      <td>0.00000</td>\n",
       "      <td>float64</td>\n",
       "    </tr>\n",
       "    <tr>\n",
       "      <th>int_rate</th>\n",
       "      <td>0</td>\n",
       "      <td>0.00000</td>\n",
       "      <td>float64</td>\n",
       "    </tr>\n",
       "    <tr>\n",
       "      <th>term</th>\n",
       "      <td>0</td>\n",
       "      <td>0.00000</td>\n",
       "      <td>int64</td>\n",
       "    </tr>\n",
       "    <tr>\n",
       "      <th>loan_amnt</th>\n",
       "      <td>0</td>\n",
       "      <td>0.00000</td>\n",
       "      <td>float64</td>\n",
       "    </tr>\n",
       "    <tr>\n",
       "      <th>sub_grade</th>\n",
       "      <td>0</td>\n",
       "      <td>0.00000</td>\n",
       "      <td>object</td>\n",
       "    </tr>\n",
       "    <tr>\n",
       "      <th>grade</th>\n",
       "      <td>0</td>\n",
       "      <td>0.00000</td>\n",
       "      <td>object</td>\n",
       "    </tr>\n",
       "    <tr>\n",
       "      <th>year</th>\n",
       "      <td>0</td>\n",
       "      <td>0.00000</td>\n",
       "      <td>int64</td>\n",
       "    </tr>\n",
       "  </tbody>\n",
       "</table>\n",
       "</div>"
      ],
      "text/plain": [
       "                      na_value_count  na_value_percent na_value_type\n",
       "emp_length                     79624           0.06451       float64\n",
       "revol_util                       919           0.00074       float64\n",
       "dti                              776           0.00063       float64\n",
       "id                                 0           0.00000         int64\n",
       "pub_rec_bankruptcies               0           0.00000       float64\n",
       "mort_acc                           0           0.00000       float64\n",
       "application_type                   0           0.00000        object\n",
       "initial_list_status                0           0.00000        object\n",
       "revol_bal                          0           0.00000       float64\n",
       "pub_rec                            0           0.00000       float64\n",
       "open_acc                           0           0.00000       float64\n",
       "fico_range_low                     0           0.00000       float64\n",
       "earliest_cr_line                   0           0.00000         int64\n",
       "addr_state                         0           0.00000        object\n",
       "issue_d                            0           0.00000        object\n",
       "purpose                            0           0.00000        object\n",
       "verification_status                0           0.00000        object\n",
       "annual_inc                         0           0.00000       float64\n",
       "home_ownership                     0           0.00000        object\n",
       "installment                        0           0.00000       float64\n",
       "int_rate                           0           0.00000       float64\n",
       "term                               0           0.00000         int64\n",
       "loan_amnt                          0           0.00000       float64\n",
       "sub_grade                          0           0.00000        object\n",
       "grade                              0           0.00000        object\n",
       "year                               0           0.00000         int64"
      ]
     },
     "execution_count": 59,
     "metadata": {},
     "output_type": "execute_result"
    }
   ],
   "source": [
    "na_values_df(x_train)"
   ]
  },
  {
   "cell_type": "code",
   "execution_count": 60,
   "metadata": {},
   "outputs": [],
   "source": [
    "imputations_df = pd.DataFrame({'emp_length_med': [x_train['emp_length'].median()],\n",
    "                               'mort_acc_med': [x_train['mort_acc'].median()],\n",
    "                               'revol_util_med': [x_train['revol_util'].median()],\n",
    "                               'dti_med': [x_train['dti'].median()],\n",
    "                               'pub_rec_bankruptcies_med': [x_train['pub_rec_bankruptcies'].median()]})"
   ]
  },
  {
   "cell_type": "code",
   "execution_count": 61,
   "metadata": {},
   "outputs": [],
   "source": [
    "x_train.loc[x_train['emp_length'].isna(), 'emp_length'] = imputations_df['emp_length_med'].item()\n",
    "x_train.loc[x_train['mort_acc'].isna(), 'mort_acc'] = imputations_df['mort_acc_med'].item()\n",
    "x_train.loc[x_train['revol_util'].isna(), 'revol_util'] = imputations_df['revol_util_med'].item()\n",
    "x_train.loc[x_train['dti'].isna(), 'dti'] = imputations_df['dti_med'].item()\n",
    "x_train.loc[x_train['pub_rec_bankruptcies'].isna(), 'pub_rec_bankruptcies'] = imputations_df['pub_rec_bankruptcies_med'].item()\n",
    "\n",
    "x_val.loc[x_val['emp_length'].isna(), 'emp_length'] = imputations_df['emp_length_med'].item()\n",
    "x_val.loc[x_val['mort_acc'].isna(), 'mort_acc'] = imputations_df['mort_acc_med'].item()\n",
    "x_val.loc[x_val['revol_util'].isna(), 'revol_util'] = imputations_df['revol_util_med'].item()\n",
    "x_val.loc[x_val['dti'].isna(), 'dti'] = imputations_df['dti_med'].item()\n",
    "x_val.loc[x_val['pub_rec_bankruptcies'].isna(), 'pub_rec_bankruptcies'] = imputations_df['pub_rec_bankruptcies_med'].item()\n",
    "\n",
    "x_test.loc[x_test['emp_length'].isna(), 'emp_length'] = imputations_df['emp_length_med'].item()\n",
    "x_test.loc[x_test['mort_acc'].isna(), 'mort_acc'] = imputations_df['mort_acc_med'].item()\n",
    "x_test.loc[x_test['revol_util'].isna(), 'revol_util'] = imputations_df['revol_util_med'].item()\n",
    "x_test.loc[x_test['dti'].isna(), 'dti'] = imputations_df['dti_med'].item()\n",
    "x_test.loc[x_test['pub_rec_bankruptcies'].isna(), 'pub_rec_bankruptcies'] = imputations_df['pub_rec_bankruptcies_med'].item()"
   ]
  },
  {
   "attachments": {},
   "cell_type": "markdown",
   "metadata": {},
   "source": [
    "----\n",
    "# Normalization"
   ]
  },
  {
   "cell_type": "code",
   "execution_count": 15,
   "metadata": {},
   "outputs": [],
   "source": [
    "remove = ['id', 'issue_d', 'year', 'grade', 'sub_grade', 'term']"
   ]
  },
  {
   "cell_type": "code",
   "execution_count": 16,
   "metadata": {},
   "outputs": [],
   "source": [
    "numerical_columns = list(x_train.select_dtypes(include = ['float64', 'int64']).columns)\n",
    "numerical_columns = [x for x in numerical_columns if x not in remove]"
   ]
  },
  {
   "cell_type": "code",
   "execution_count": 17,
   "metadata": {},
   "outputs": [],
   "source": [
    "scaler = MinMaxScaler()\n",
    "x_train[numerical_columns] = scaler.fit_transform(x_train[numerical_columns])\n",
    "x_val[numerical_columns] = scaler.transform(x_val[numerical_columns])\n",
    "x_test[numerical_columns] = scaler.transform(x_test[numerical_columns])"
   ]
  },
  {
   "attachments": {},
   "cell_type": "markdown",
   "metadata": {},
   "source": [
    "----\n",
    "# One Hot Encode"
   ]
  },
  {
   "cell_type": "code",
   "execution_count": 18,
   "metadata": {},
   "outputs": [],
   "source": [
    "categorical_columns = list(x_train.select_dtypes(include = ['object']).columns)\n",
    "categorical_columns = [x for x in categorical_columns if x not in remove]\n",
    "categorical_columns.remove('initial_list_status')\n",
    "\n",
    "transformers = [\n",
    "    ('', OneHotEncoder(handle_unknown = 'ignore', sparse = False), categorical_columns)\n",
    "]\n",
    "ct = ColumnTransformer(transformers)\n",
    "\n",
    "x_train_transformed = ct.fit_transform(x_train)\n",
    "feature_names = ct.get_feature_names_out()\n",
    "x_train_transformed = pd.DataFrame(x_train_transformed, columns = feature_names).set_index(x_train.index)\n",
    "x_train_transformed.columns = x_train_transformed.columns.str[2:]\n",
    "\n",
    "x_val_transformed = ct.transform(x_val)\n",
    "x_val_transformed = pd.DataFrame(x_val_transformed, columns = feature_names).set_index(x_val.index)\n",
    "x_val_transformed.columns = x_val_transformed.columns.str[2:]\n",
    "\n",
    "x_test_transformed = ct.transform(x_test)\n",
    "x_test_transformed = pd.DataFrame(x_test_transformed, columns = feature_names).set_index(x_test.index)\n",
    "x_test_transformed.columns = x_test_transformed.columns.str[2:]"
   ]
  },
  {
   "cell_type": "code",
   "execution_count": 19,
   "metadata": {},
   "outputs": [],
   "source": [
    "x_train_ohe = pd.concat([x_train[remove + numerical_columns], x_train_transformed], axis = 1)\n",
    "x_val_ohe = pd.concat([x_val[remove + numerical_columns], x_val_transformed], axis = 1)\n",
    "x_test_ohe = pd.concat([x_test[remove + numerical_columns], x_test_transformed], axis = 1)"
   ]
  },
  {
   "attachments": {},
   "cell_type": "markdown",
   "metadata": {},
   "source": [
    "----\n",
    "# Save datasets for modeling"
   ]
  },
  {
   "cell_type": "code",
   "execution_count": 20,
   "metadata": {},
   "outputs": [],
   "source": [
    "train_final = pd.concat([y_train, x_train_ohe], axis = 1)\n",
    "val_final = pd.concat([y_val, x_val_ohe], axis = 1)\n",
    "test_final = pd.concat([y_test, x_test_ohe], axis = 1)\n",
    "\n",
    "train_final.to_csv('/Users/vinh/FS/thesis/data/train_final.csv', index = False)\n",
    "val_final.to_csv('/Users/vinh/FS/thesis/data/val_final.csv', index = False)\n",
    "test_final.to_csv('/Users/vinh/FS/thesis/data/test_final.csv', index = False)"
   ]
  },
  {
   "attachments": {},
   "cell_type": "markdown",
   "metadata": {},
   "source": [
    "----\n",
    "# Create Balanced Data Set\n",
    "From the train set, filter for defaults. Take 80% of the defaults. Take the same number of completed as you have defaults to create a balanced data set."
   ]
  },
  {
   "cell_type": "code",
   "execution_count": 21,
   "metadata": {},
   "outputs": [],
   "source": [
    "defaults = train_final.loc[train_final['loan_status'] == 1]\n",
    "completed = train_final.loc[train_final['loan_status'] == 0]"
   ]
  },
  {
   "cell_type": "code",
   "execution_count": 22,
   "metadata": {},
   "outputs": [],
   "source": [
    "defaults_train, defaults_test = train_test_split(defaults, test_size = 0.2, random_state = 1337)\n",
    "completed_train, completed_test = train_test_split(completed,\n",
    "                                                   test_size = defaults_train.shape[0] / completed.shape[0],\n",
    "                                                   random_state = 1337)"
   ]
  },
  {
   "cell_type": "code",
   "execution_count": 23,
   "metadata": {},
   "outputs": [
    {
     "data": {
      "text/plain": [
       "0    195220\n",
       "1    195220\n",
       "Name: loan_status, dtype: int64"
      ]
     },
     "execution_count": 23,
     "metadata": {},
     "output_type": "execute_result"
    }
   ],
   "source": [
    "train_balanced = pd.concat([completed_test, defaults_train])\n",
    "train_balanced['loan_status'].value_counts()"
   ]
  },
  {
   "cell_type": "code",
   "execution_count": 24,
   "metadata": {},
   "outputs": [],
   "source": [
    "train_balanced.to_csv('/Users/vinh/FS/thesis/data/train_balanced.csv', index = False)"
   ]
  },
  {
   "cell_type": "code",
   "execution_count": null,
   "metadata": {},
   "outputs": [],
   "source": []
  }
 ],
 "metadata": {
  "kernelspec": {
   "display_name": "thesis",
   "language": "python",
   "name": "python3"
  },
  "language_info": {
   "codemirror_mode": {
    "name": "ipython",
    "version": 3
   },
   "file_extension": ".py",
   "mimetype": "text/x-python",
   "name": "python",
   "nbconvert_exporter": "python",
   "pygments_lexer": "ipython3",
   "version": "3.9.12"
  },
  "orig_nbformat": 4
 },
 "nbformat": 4,
 "nbformat_minor": 2
}
