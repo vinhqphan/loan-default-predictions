{
 "cells": [
  {
   "cell_type": "code",
   "execution_count": 147,
   "metadata": {},
   "outputs": [],
   "source": [
    "import numpy as np\n",
    "import pandas as pd\n",
    "import plotly.graph_objects as go\n",
    "import matplotlib.pyplot as plt\n",
    "import seaborn as sns\n",
    "sns.set_style('darkgrid')\n",
    "\n",
    "pd.set_option('display.max_columns', 500)\n",
    "pd.set_option('display.max_rows', 500)\n",
    "pd.set_option('display.float_format', lambda x: '%.4f' % x)"
   ]
  },
  {
   "attachments": {},
   "cell_type": "markdown",
   "metadata": {},
   "source": [
    "----\n",
    "# Read in Data"
   ]
  },
  {
   "cell_type": "code",
   "execution_count": 74,
   "metadata": {},
   "outputs": [
    {
     "name": "stderr",
     "output_type": "stream",
     "text": [
      "/var/folders/l4/5vxm_0lj2qb6s9k_56jbryjr0000gn/T/ipykernel_92386/3276201340.py:1: DtypeWarning:\n",
      "\n",
      "Columns (1,48,58,117,127,128,129,132,133,134,137) have mixed types. Specify dtype option on import or set low_memory=False.\n",
      "\n"
     ]
    }
   ],
   "source": [
    "df_raw = pd.read_csv('/Users/vinh/FS/thesis/data/raw/loan_status_2007_2020q3.gzip')\n",
    "df_raw = df_raw.drop(columns = ['Unnamed: 0'], axis = 1)\n",
    "\n",
    "data_dict = pd.read_excel('/Users/vinh/FS/thesis/data/raw/data_dictionary.xlsx', nrows = 152)               "
   ]
  },
  {
   "cell_type": "code",
   "execution_count": 75,
   "metadata": {},
   "outputs": [
    {
     "data": {
      "text/plain": [
       "Fully Paid                                             0.5120\n",
       "Current                                                0.3524\n",
       "Charged Off                                            0.1239\n",
       "Late (31-120 days)                                     0.0055\n",
       "In Grace Period                                        0.0034\n",
       "Late (16-30 days)                                      0.0009\n",
       "Issued                                                 0.0007\n",
       "Does not meet the credit policy. Status:Fully Paid     0.0007\n",
       "Does not meet the credit policy. Status:Charged Off    0.0003\n",
       "Default                                                0.0001\n",
       "Name: loan_status, dtype: float64"
      ]
     },
     "execution_count": 75,
     "metadata": {},
     "output_type": "execute_result"
    }
   ],
   "source": [
    "df_raw['loan_status'].value_counts(normalize = True).round(4)"
   ]
  },
  {
   "cell_type": "code",
   "execution_count": 84,
   "metadata": {},
   "outputs": [],
   "source": [
    "df_historical = df_raw.loc[df_raw['loan_status'].isin(['Fully Paid', 'Charged Off', 'Default'])]\n",
    "df_historical.loc[df_historical['loan_status'] == 'Default', 'loan_status'] = 'Charged Off'"
   ]
  },
  {
   "cell_type": "code",
   "execution_count": 85,
   "metadata": {},
   "outputs": [
    {
     "data": {
      "text/plain": [
       "Fully Paid     0.804929\n",
       "Charged Off    0.195071\n",
       "Name: loan_status, dtype: float64"
      ]
     },
     "execution_count": 85,
     "metadata": {},
     "output_type": "execute_result"
    }
   ],
   "source": [
    "df_historical['loan_status'].value_counts(normalize = True)"
   ]
  },
  {
   "attachments": {},
   "cell_type": "markdown",
   "metadata": {},
   "source": [
    "----\n",
    "# Feature Selection"
   ]
  },
  {
   "attachments": {},
   "cell_type": "markdown",
   "metadata": {},
   "source": [
    "#### ---- Identify and remove features whose columns are missing a certain percentage of data. ----"
   ]
  },
  {
   "cell_type": "code",
   "execution_count": 86,
   "metadata": {},
   "outputs": [],
   "source": [
    "def na_values_df(df):\n",
    "    '''\n",
    "    Function which creates a table describing NA values.\n",
    "\n",
    "    Arguments:\n",
    "        df: pd.DataFrame\n",
    "            Dataframe which you want to describe NA values for.\n",
    "\n",
    "    Returns:\n",
    "        Dataframe containing 3 columns which describes NA values in given df.\n",
    "    '''\n",
    "    na_val_count = df.isnull().sum()\n",
    "    na_val_percent = df.isnull().sum() / len(df)\n",
    "    na_val_type = df.dtypes\n",
    "\n",
    "    na_val_df = pd.concat([na_val_count, na_val_percent, na_val_type], axis = 1)\n",
    "    na_val_df = na_val_df.rename(columns = {0: 'na_value_count',\n",
    "                                            1: 'na_value_percent',\n",
    "                                            2: 'na_value_type'\n",
    "    })\n",
    "    na_val_df['na_value_percent'] = round(na_val_df['na_value_percent'], 5)\n",
    "    na_val_df = na_val_df.sort_values(by = 'na_value_percent', ascending = False)\n",
    "    \n",
    "    return na_val_df"
   ]
  },
  {
   "cell_type": "code",
   "execution_count": 87,
   "metadata": {},
   "outputs": [],
   "source": [
    "df_historical_na = na_values_df(df_historical)"
   ]
  },
  {
   "cell_type": "code",
   "execution_count": 88,
   "metadata": {},
   "outputs": [
    {
     "data": {
      "text/html": [
       "<div>\n",
       "<style scoped>\n",
       "    .dataframe tbody tr th:only-of-type {\n",
       "        vertical-align: middle;\n",
       "    }\n",
       "\n",
       "    .dataframe tbody tr th {\n",
       "        vertical-align: top;\n",
       "    }\n",
       "\n",
       "    .dataframe thead th {\n",
       "        text-align: right;\n",
       "    }\n",
       "</style>\n",
       "<table border=\"1\" class=\"dataframe\">\n",
       "  <thead>\n",
       "    <tr style=\"text-align: right;\">\n",
       "      <th></th>\n",
       "      <th>na_value_count</th>\n",
       "      <th>na_value_percent</th>\n",
       "      <th>na_value_type</th>\n",
       "    </tr>\n",
       "  </thead>\n",
       "  <tbody>\n",
       "    <tr>\n",
       "      <th>next_pymnt_d</th>\n",
       "      <td>1860331</td>\n",
       "      <td>0.99977</td>\n",
       "      <td>object</td>\n",
       "    </tr>\n",
       "    <tr>\n",
       "      <th>hardship_loan_status</th>\n",
       "      <td>1848068</td>\n",
       "      <td>0.99318</td>\n",
       "      <td>object</td>\n",
       "    </tr>\n",
       "    <tr>\n",
       "      <th>payment_plan_start_date</th>\n",
       "      <td>1848057</td>\n",
       "      <td>0.99317</td>\n",
       "      <td>object</td>\n",
       "    </tr>\n",
       "    <tr>\n",
       "      <th>hardship_type</th>\n",
       "      <td>1848057</td>\n",
       "      <td>0.99317</td>\n",
       "      <td>object</td>\n",
       "    </tr>\n",
       "    <tr>\n",
       "      <th>hardship_reason</th>\n",
       "      <td>1848056</td>\n",
       "      <td>0.99317</td>\n",
       "      <td>object</td>\n",
       "    </tr>\n",
       "  </tbody>\n",
       "</table>\n",
       "</div>"
      ],
      "text/plain": [
       "                         na_value_count  na_value_percent na_value_type\n",
       "next_pymnt_d                    1860331           0.99977        object\n",
       "hardship_loan_status            1848068           0.99318        object\n",
       "payment_plan_start_date         1848057           0.99317        object\n",
       "hardship_type                   1848057           0.99317        object\n",
       "hardship_reason                 1848056           0.99317        object"
      ]
     },
     "execution_count": 88,
     "metadata": {},
     "output_type": "execute_result"
    }
   ],
   "source": [
    "df_historical_na.head()"
   ]
  },
  {
   "attachments": {},
   "cell_type": "markdown",
   "metadata": {},
   "source": [
    "#### ---- Drop columns which have more than 45% of missing data. ----\n",
    "We choose 0.45 as the cutoff since there is a drastic difference between missing data amongst the features.\n",
    "The column `mths_since_recent_inq` is missing ~0.12441. The next column missing the most amount of data is `max_bal_bc` which spikes up to ~0.45489.\n",
    "\n",
    "We go from 141 features to 92 after removing missing data."
   ]
  },
  {
   "cell_type": "code",
   "execution_count": 89,
   "metadata": {},
   "outputs": [],
   "source": [
    "na_cols_to_drop = df_historical_na.loc[df_historical_na['na_value_percent'] > 0.45].index.to_list()\n",
    "df_historical = df_historical.drop(columns = na_cols_to_drop)"
   ]
  },
  {
   "attachments": {},
   "cell_type": "markdown",
   "metadata": {},
   "source": [
    "#### ---- Removing future data ----\n",
    "There are some columns which provide information on a loan after it has gone into default. Using these columns in our model would be cheating because we don't want to use future data to predict default. Ideally, we would like to only use features which are known to an investor at the time of a loan's origination."
   ]
  },
  {
   "cell_type": "code",
   "execution_count": 90,
   "metadata": {},
   "outputs": [],
   "source": [
    "# `last_pymnt_d` may be a useful feature for a survival model\n",
    "# `total_acc` may not be a cheat feature, remove anyways just to be safe\n",
    "future_features = ['acc_now_delinq', 'acc_open_past_24mths', 'avg_cur_bal', 'bc_open_to_buy', 'bc_util',\n",
    "                   'chargeoff_within_12_mths', 'collection_recovery_fee', 'collections_12_mths_ex_med', 'delinq_2yrs', 'delinq_amnt',\n",
    "                   'funded_amnt', 'funded_amnt_inv', 'inq_last_6mths', 'last_credit_pull_d', 'last_fico_range_high',\n",
    "                   'last_fico_range_low', 'last_pymnt_amnt', 'last_pymnt_d', 'mo_sin_old_il_acct', 'mo_sin_old_rev_tl_op',\n",
    "                   'mo_sin_rcnt_rev_tl_op', 'mo_sin_rcnt_tl', 'mths_since_recent_bc', 'mths_since_recent_inq', 'num_accts_ever_120_pd',\n",
    "                   'num_actv_bc_tl', 'num_actv_rev_tl', 'num_bc_sats', 'num_bc_tl', 'num_il_tl',\n",
    "                   'num_op_rev_tl', 'num_rev_accts', 'num_rev_tl_bal_gt_0', 'num_sats', 'num_tl_120dpd_2m',\n",
    "                   'num_tl_30dpd', 'num_tl_90g_dpd_24m', 'num_tl_op_past_12m', 'out_prncp', 'out_prncp_inv',\n",
    "                   'pct_tl_nvr_dlq', 'percent_bc_gt_75', 'pymnt_plan', 'recoveries', 'tax_liens',\n",
    "                   'tot_coll_amt', 'tot_cur_bal', 'tot_hi_cred_lim', 'total_acc', 'total_bal_ex_mort',\n",
    "                   'total_bc_limit', 'total_il_high_credit_limit', 'total_pymnt', 'total_pymnt_inv', 'total_rec_int',\n",
    "                   'total_rec_late_fee', 'total_rec_prncp', 'total_rev_hi_lim', 'hardship_flag', 'debt_settlement_flag',\n",
    "                   'url']\n",
    "df_historical = df_historical.drop(columns = future_features)"
   ]
  },
  {
   "attachments": {},
   "cell_type": "markdown",
   "metadata": {},
   "source": [
    "After dropping the `future features`, we significantly reduce the amount of features we have from 92 to 31."
   ]
  },
  {
   "attachments": {},
   "cell_type": "markdown",
   "metadata": {},
   "source": [
    "----\n",
    "# Feature Cleaning"
   ]
  },
  {
   "cell_type": "code",
   "execution_count": 93,
   "metadata": {},
   "outputs": [],
   "source": [
    "df_historical_clean = df_historical.copy()"
   ]
  },
  {
   "cell_type": "code",
   "execution_count": 94,
   "metadata": {},
   "outputs": [],
   "source": [
    "# Convert `issue_d` to datetime\n",
    "df_historical_clean['issue_d'] = pd.to_datetime(df_historical_clean['issue_d'])\n",
    "\n",
    "# Convert `term` into int\n",
    "df_historical_clean['term'] = df_historical_clean['term'].str.replace(' months', '').astype(int)\n",
    "\n",
    "# Convert `int_rate` from string to float\n",
    "df_historical_clean['int_rate'] = df_historical_clean['int_rate'].str.rstrip('%').astype(float) / 100\n",
    "\n",
    "# Take only year from `earliest_cr_line`\n",
    "df_historical_clean['earliest_cr_line'] = df_historical_clean['earliest_cr_line'].apply(lambda s: int(s[-4:]))\n",
    "\n",
    "# Convert `emp_length` from string to int\n",
    "emp_length_mapping = {\n",
    "    '10+ years': 10,\n",
    "    '9 years': 9,\n",
    "    '8 years': 8,\n",
    "    '7 years': 7,\n",
    "    '6 years': 6,\n",
    "    '5 years': 5,\n",
    "    '4 years': 4,\n",
    "    '3 years': 3,\n",
    "    '2 years': 2,\n",
    "    '1 year': 1,\n",
    "    '< 1 year': 0,\n",
    "}\n",
    "df_historical_clean['emp_length'] = df_historical_clean['emp_length'].map(emp_length_mapping)\n",
    "\n",
    "# Convert `revol_util` from string to float\n",
    "df_historical_clean['revol_util'] = df_historical_clean['revol_util'].str.rstrip('%').astype(float) / 100"
   ]
  },
  {
   "cell_type": "code",
   "execution_count": 95,
   "metadata": {},
   "outputs": [],
   "source": [
    "# Drop further features\n",
    "drop = ['emp_title', # Categorical - 456737 unique values, too many to one hot encode\n",
    "        'title', # Categorical - 61686 unique values, too many to one hot encode\n",
    "        'zip_code', # Numerical - 950 unique values, use state instead of zip code\n",
    "        'policy_code', # Numerical - Only has 1 unique value\n",
    "        'fico_range_high' # Numerical - Max difference between `fico_range_low` & `fico_range_high` is 5, thus we only include `fico_range_low`\n",
    "        ]\n",
    "\n",
    "# Reorder columns: identifier columns not used for modeling and target feature `loan_status`\n",
    "reorder = ['id', 'issue_d', 'grade', 'sub_grade', 'loan_status']\n",
    "\n",
    "df_historical_clean = df_historical_clean.drop(columns = drop)\n",
    "df_historical_clean = df_historical_clean[reorder + [col for col in df_historical_clean.columns if col not in reorder]]"
   ]
  },
  {
   "attachments": {},
   "cell_type": "markdown",
   "metadata": {},
   "source": [
    "----\n",
    "# Remove Certain Years"
   ]
  },
  {
   "cell_type": "code",
   "execution_count": 98,
   "metadata": {},
   "outputs": [],
   "source": [
    "df_historical_clean['year'] = pd.to_datetime(df_historical_clean['issue_d']).dt.year\n",
    "loan_counts = df_historical_clean.groupby('year').size()"
   ]
  },
  {
   "cell_type": "code",
   "execution_count": 99,
   "metadata": {},
   "outputs": [
    {
     "data": {
      "text/plain": [
       "2016    0.216634\n",
       "2015    0.216490\n",
       "2017    0.168946\n",
       "2014    0.126625\n",
       "2018    0.105966\n",
       "2013    0.072451\n",
       "2019    0.040524\n",
       "2012    0.028680\n",
       "2011    0.011673\n",
       "2010    0.006200\n",
       "2009    0.002534\n",
       "2020    0.002303\n",
       "2008    0.000839\n",
       "2007    0.000135\n",
       "Name: year, dtype: float64"
      ]
     },
     "execution_count": 99,
     "metadata": {},
     "output_type": "execute_result"
    }
   ],
   "source": [
    "df_historical_clean['year'].value_counts(normalize = True)"
   ]
  },
  {
   "cell_type": "code",
   "execution_count": 122,
   "metadata": {},
   "outputs": [],
   "source": [
    "a = pd.DataFrame(loan_counts).reset_index()\n",
    "mean = np.mean(a[0])\n",
    "std_dev = np.std(a[0])\n",
    "a['std_dev'] = a[0].std()\n",
    "a['norm'] = (a[0] - mean) / std_dev"
   ]
  },
  {
   "cell_type": "code",
   "execution_count": 123,
   "metadata": {},
   "outputs": [
    {
     "data": {
      "text/html": [
       "<div>\n",
       "<style scoped>\n",
       "    .dataframe tbody tr th:only-of-type {\n",
       "        vertical-align: middle;\n",
       "    }\n",
       "\n",
       "    .dataframe tbody tr th {\n",
       "        vertical-align: top;\n",
       "    }\n",
       "\n",
       "    .dataframe thead th {\n",
       "        text-align: right;\n",
       "    }\n",
       "</style>\n",
       "<table border=\"1\" class=\"dataframe\">\n",
       "  <thead>\n",
       "    <tr style=\"text-align: right;\">\n",
       "      <th></th>\n",
       "      <th>year</th>\n",
       "      <th>0</th>\n",
       "      <th>std_dev</th>\n",
       "      <th>norm</th>\n",
       "    </tr>\n",
       "  </thead>\n",
       "  <tbody>\n",
       "    <tr>\n",
       "      <th>0</th>\n",
       "      <td>2007</td>\n",
       "      <td>251</td>\n",
       "      <td>151411.97653</td>\n",
       "      <td>-0.909231</td>\n",
       "    </tr>\n",
       "    <tr>\n",
       "      <th>1</th>\n",
       "      <td>2008</td>\n",
       "      <td>1562</td>\n",
       "      <td>151411.97653</td>\n",
       "      <td>-0.900246</td>\n",
       "    </tr>\n",
       "    <tr>\n",
       "      <th>2</th>\n",
       "      <td>2009</td>\n",
       "      <td>4716</td>\n",
       "      <td>151411.97653</td>\n",
       "      <td>-0.878629</td>\n",
       "    </tr>\n",
       "    <tr>\n",
       "      <th>3</th>\n",
       "      <td>2010</td>\n",
       "      <td>11536</td>\n",
       "      <td>151411.97653</td>\n",
       "      <td>-0.831886</td>\n",
       "    </tr>\n",
       "    <tr>\n",
       "      <th>4</th>\n",
       "      <td>2011</td>\n",
       "      <td>21721</td>\n",
       "      <td>151411.97653</td>\n",
       "      <td>-0.762080</td>\n",
       "    </tr>\n",
       "    <tr>\n",
       "      <th>5</th>\n",
       "      <td>2012</td>\n",
       "      <td>53367</td>\n",
       "      <td>151411.97653</td>\n",
       "      <td>-0.545184</td>\n",
       "    </tr>\n",
       "    <tr>\n",
       "      <th>6</th>\n",
       "      <td>2013</td>\n",
       "      <td>134814</td>\n",
       "      <td>151411.97653</td>\n",
       "      <td>0.013038</td>\n",
       "    </tr>\n",
       "    <tr>\n",
       "      <th>7</th>\n",
       "      <td>2014</td>\n",
       "      <td>235619</td>\n",
       "      <td>151411.97653</td>\n",
       "      <td>0.703936</td>\n",
       "    </tr>\n",
       "    <tr>\n",
       "      <th>8</th>\n",
       "      <td>2015</td>\n",
       "      <td>402837</td>\n",
       "      <td>151411.97653</td>\n",
       "      <td>1.850017</td>\n",
       "    </tr>\n",
       "    <tr>\n",
       "      <th>9</th>\n",
       "      <td>2016</td>\n",
       "      <td>403104</td>\n",
       "      <td>151411.97653</td>\n",
       "      <td>1.851847</td>\n",
       "    </tr>\n",
       "    <tr>\n",
       "      <th>10</th>\n",
       "      <td>2017</td>\n",
       "      <td>314368</td>\n",
       "      <td>151411.97653</td>\n",
       "      <td>1.243667</td>\n",
       "    </tr>\n",
       "    <tr>\n",
       "      <th>11</th>\n",
       "      <td>2018</td>\n",
       "      <td>197178</td>\n",
       "      <td>151411.97653</td>\n",
       "      <td>0.440469</td>\n",
       "    </tr>\n",
       "    <tr>\n",
       "      <th>12</th>\n",
       "      <td>2019</td>\n",
       "      <td>75405</td>\n",
       "      <td>151411.97653</td>\n",
       "      <td>-0.394140</td>\n",
       "    </tr>\n",
       "    <tr>\n",
       "      <th>13</th>\n",
       "      <td>2020</td>\n",
       "      <td>4286</td>\n",
       "      <td>151411.97653</td>\n",
       "      <td>-0.881576</td>\n",
       "    </tr>\n",
       "  </tbody>\n",
       "</table>\n",
       "</div>"
      ],
      "text/plain": [
       "    year       0       std_dev      norm\n",
       "0   2007     251  151411.97653 -0.909231\n",
       "1   2008    1562  151411.97653 -0.900246\n",
       "2   2009    4716  151411.97653 -0.878629\n",
       "3   2010   11536  151411.97653 -0.831886\n",
       "4   2011   21721  151411.97653 -0.762080\n",
       "5   2012   53367  151411.97653 -0.545184\n",
       "6   2013  134814  151411.97653  0.013038\n",
       "7   2014  235619  151411.97653  0.703936\n",
       "8   2015  402837  151411.97653  1.850017\n",
       "9   2016  403104  151411.97653  1.851847\n",
       "10  2017  314368  151411.97653  1.243667\n",
       "11  2018  197178  151411.97653  0.440469\n",
       "12  2019   75405  151411.97653 -0.394140\n",
       "13  2020    4286  151411.97653 -0.881576"
      ]
     },
     "execution_count": 123,
     "metadata": {},
     "output_type": "execute_result"
    }
   ],
   "source": [
    "a"
   ]
  },
  {
   "cell_type": "code",
   "execution_count": 162,
   "metadata": {},
   "outputs": [
    {
     "data": {
      "image/png": "[encoded data removed]",
      "text/plain": [
       "<Figure size 640x480 with 1 Axes>"
      ]
     },
     "metadata": {},
     "output_type": "display_data"
    }
   ],
   "source": [
    "loan_counts.plot(kind = 'bar')\n",
    "# plt.title('Loans by Year')\n",
    "plt.xlabel('Year')\n",
    "plt.ylabel('Loan Count')\n",
    "plt.show()"
   ]
  },
  {
   "cell_type": "code",
   "execution_count": 125,
   "metadata": {},
   "outputs": [],
   "source": [
    "df_historical_clean = df_historical_clean.loc[(df_historical_clean['year'] >= 2013) & (df_historical_clean['year'] <= 2019)]"
   ]
  },
  {
   "cell_type": "code",
   "execution_count": 126,
   "metadata": {},
   "outputs": [
    {
     "data": {
      "text/plain": [
       "(1763325, 27)"
      ]
     },
     "execution_count": 126,
     "metadata": {},
     "output_type": "execute_result"
    }
   ],
   "source": [
    "df_historical_clean.shape"
   ]
  },
  {
   "cell_type": "code",
   "execution_count": 42,
   "metadata": {},
   "outputs": [],
   "source": [
    "df_historical_clean.to_csv('/Users/vinh/FS/thesis/data/df_historical_clean.csv', index = False)"
   ]
  },
  {
   "attachments": {},
   "cell_type": "markdown",
   "metadata": {},
   "source": [
    "----\n",
    "# Data Visualization\n",
    "\n",
    "Visualize the remaining features to determine if further feature selection or feature engineering is necessary."
   ]
  },
  {
   "attachments": {},
   "cell_type": "markdown",
   "metadata": {},
   "source": [
    "#### ---- Descriptive Statistics of Numerical Features ----"
   ]
  },
  {
   "cell_type": "code",
   "execution_count": 150,
   "metadata": {},
   "outputs": [],
   "source": [
    "numerical_columns = [\n",
    " 'loan_amnt',\n",
    " 'int_rate',\n",
    " 'installment',\n",
    " 'emp_length',\n",
    " 'annual_inc',\n",
    " 'dti',\n",
    " 'earliest_cr_line',\n",
    " 'fico_range_low',\n",
    " 'open_acc',\n",
    " 'pub_rec',\n",
    " 'revol_bal',\n",
    " 'revol_util',\n",
    " 'mort_acc',\n",
    " 'pub_rec_bankruptcies'\n",
    "]"
   ]
  },
  {
   "cell_type": "code",
   "execution_count": 151,
   "metadata": {},
   "outputs": [
    {
     "data": {
      "text/html": [
       "<div>\n",
       "<style scoped>\n",
       "    .dataframe tbody tr th:only-of-type {\n",
       "        vertical-align: middle;\n",
       "    }\n",
       "\n",
       "    .dataframe tbody tr th {\n",
       "        vertical-align: top;\n",
       "    }\n",
       "\n",
       "    .dataframe thead th {\n",
       "        text-align: right;\n",
       "    }\n",
       "</style>\n",
       "<table border=\"1\" class=\"dataframe\">\n",
       "  <thead>\n",
       "    <tr style=\"text-align: right;\">\n",
       "      <th>loan_status</th>\n",
       "      <th>Charged Off</th>\n",
       "      <th>Fully Paid</th>\n",
       "    </tr>\n",
       "  </thead>\n",
       "  <tbody>\n",
       "    <tr>\n",
       "      <th>loan_amnt</th>\n",
       "      <td>15989.7372</td>\n",
       "      <td>14382.7234</td>\n",
       "    </tr>\n",
       "    <tr>\n",
       "      <th>int_rate</th>\n",
       "      <td>0.1569</td>\n",
       "      <td>0.1256</td>\n",
       "    </tr>\n",
       "    <tr>\n",
       "      <th>installment</th>\n",
       "      <td>475.5458</td>\n",
       "      <td>435.5927</td>\n",
       "    </tr>\n",
       "    <tr>\n",
       "      <th>emp_length</th>\n",
       "      <td>5.7978</td>\n",
       "      <td>5.9997</td>\n",
       "    </tr>\n",
       "    <tr>\n",
       "      <th>annual_inc</th>\n",
       "      <td>72348.1620</td>\n",
       "      <td>79074.4399</td>\n",
       "    </tr>\n",
       "    <tr>\n",
       "      <th>dti</th>\n",
       "      <td>20.4313</td>\n",
       "      <td>18.3266</td>\n",
       "    </tr>\n",
       "    <tr>\n",
       "      <th>earliest_cr_line</th>\n",
       "      <td>2000.1200</td>\n",
       "      <td>1999.2063</td>\n",
       "    </tr>\n",
       "    <tr>\n",
       "      <th>fico_range_low</th>\n",
       "      <td>689.3781</td>\n",
       "      <td>699.0441</td>\n",
       "    </tr>\n",
       "    <tr>\n",
       "      <th>open_acc</th>\n",
       "      <td>11.9130</td>\n",
       "      <td>11.6306</td>\n",
       "    </tr>\n",
       "    <tr>\n",
       "      <th>pub_rec</th>\n",
       "      <td>0.2445</td>\n",
       "      <td>0.2108</td>\n",
       "    </tr>\n",
       "    <tr>\n",
       "      <th>revol_bal</th>\n",
       "      <td>15312.0074</td>\n",
       "      <td>16647.6910</td>\n",
       "    </tr>\n",
       "    <tr>\n",
       "      <th>revol_util</th>\n",
       "      <td>0.5269</td>\n",
       "      <td>0.4972</td>\n",
       "    </tr>\n",
       "    <tr>\n",
       "      <th>mort_acc</th>\n",
       "      <td>1.3141</td>\n",
       "      <td>1.6778</td>\n",
       "    </tr>\n",
       "    <tr>\n",
       "      <th>pub_rec_bankruptcies</th>\n",
       "      <td>0.1583</td>\n",
       "      <td>0.1334</td>\n",
       "    </tr>\n",
       "  </tbody>\n",
       "</table>\n",
       "</div>"
      ],
      "text/plain": [
       "loan_status           Charged Off  Fully Paid\n",
       "loan_amnt              15989.7372  14382.7234\n",
       "int_rate                   0.1569      0.1256\n",
       "installment              475.5458    435.5927\n",
       "emp_length                 5.7978      5.9997\n",
       "annual_inc             72348.1620  79074.4399\n",
       "dti                       20.4313     18.3266\n",
       "earliest_cr_line        2000.1200   1999.2063\n",
       "fico_range_low           689.3781    699.0441\n",
       "open_acc                  11.9130     11.6306\n",
       "pub_rec                    0.2445      0.2108\n",
       "revol_bal              15312.0074  16647.6910\n",
       "revol_util                 0.5269      0.4972\n",
       "mort_acc                   1.3141      1.6778\n",
       "pub_rec_bankruptcies       0.1583      0.1334"
      ]
     },
     "execution_count": 151,
     "metadata": {},
     "output_type": "execute_result"
    }
   ],
   "source": [
    "df_historical_clean.groupby('loan_status')[numerical_columns].mean().transpose()"
   ]
  },
  {
   "cell_type": "code",
   "execution_count": 153,
   "metadata": {},
   "outputs": [],
   "source": [
    "numerical_desc = df_historical_clean[numerical_columns].describe().transpose()\n",
    "numerical_desc = numerical_desc.drop(columns = ['count', '25%', '75%'])"
   ]
  },
  {
   "cell_type": "code",
   "execution_count": 156,
   "metadata": {},
   "outputs": [
    {
     "data": {
      "text/html": [
       "<div>\n",
       "<style scoped>\n",
       "    .dataframe tbody tr th:only-of-type {\n",
       "        vertical-align: middle;\n",
       "    }\n",
       "\n",
       "    .dataframe tbody tr th {\n",
       "        vertical-align: top;\n",
       "    }\n",
       "\n",
       "    .dataframe thead th {\n",
       "        text-align: right;\n",
       "    }\n",
       "</style>\n",
       "<table border=\"1\" class=\"dataframe\">\n",
       "  <thead>\n",
       "    <tr style=\"text-align: right;\">\n",
       "      <th></th>\n",
       "      <th>mean</th>\n",
       "      <th>std</th>\n",
       "      <th>min</th>\n",
       "      <th>50%</th>\n",
       "      <th>max</th>\n",
       "    </tr>\n",
       "  </thead>\n",
       "  <tbody>\n",
       "    <tr>\n",
       "      <th>loan_amnt</th>\n",
       "      <td>14700.4297</td>\n",
       "      <td>9006.9637</td>\n",
       "      <td>1000.0000</td>\n",
       "      <td>12000.0000</td>\n",
       "      <td>40000.0000</td>\n",
       "    </tr>\n",
       "    <tr>\n",
       "      <th>int_rate</th>\n",
       "      <td>0.1318</td>\n",
       "      <td>0.0486</td>\n",
       "      <td>0.0531</td>\n",
       "      <td>0.1269</td>\n",
       "      <td>0.3099</td>\n",
       "    </tr>\n",
       "    <tr>\n",
       "      <th>installment</th>\n",
       "      <td>443.4914</td>\n",
       "      <td>268.0072</td>\n",
       "      <td>4.9300</td>\n",
       "      <td>375.8800</td>\n",
       "      <td>1719.8300</td>\n",
       "    </tr>\n",
       "    <tr>\n",
       "      <th>emp_length</th>\n",
       "      <td>5.9608</td>\n",
       "      <td>3.7141</td>\n",
       "      <td>0.0000</td>\n",
       "      <td>6.0000</td>\n",
       "      <td>10.0000</td>\n",
       "    </tr>\n",
       "    <tr>\n",
       "      <th>annual_inc</th>\n",
       "      <td>77744.6561</td>\n",
       "      <td>120134.5331</td>\n",
       "      <td>0.0000</td>\n",
       "      <td>65000.0000</td>\n",
       "      <td>110000000.0000</td>\n",
       "    </tr>\n",
       "    <tr>\n",
       "      <th>dti</th>\n",
       "      <td>18.7427</td>\n",
       "      <td>13.2970</td>\n",
       "      <td>-1.0000</td>\n",
       "      <td>17.8700</td>\n",
       "      <td>999.0000</td>\n",
       "    </tr>\n",
       "    <tr>\n",
       "      <th>earliest_cr_line</th>\n",
       "      <td>1999.3869</td>\n",
       "      <td>7.8010</td>\n",
       "      <td>1933.0000</td>\n",
       "      <td>2001.0000</td>\n",
       "      <td>2016.0000</td>\n",
       "    </tr>\n",
       "    <tr>\n",
       "      <th>fico_range_low</th>\n",
       "      <td>697.1331</td>\n",
       "      <td>32.5018</td>\n",
       "      <td>660.0000</td>\n",
       "      <td>690.0000</td>\n",
       "      <td>845.0000</td>\n",
       "    </tr>\n",
       "    <tr>\n",
       "      <th>open_acc</th>\n",
       "      <td>11.6864</td>\n",
       "      <td>5.6136</td>\n",
       "      <td>0.0000</td>\n",
       "      <td>11.0000</td>\n",
       "      <td>90.0000</td>\n",
       "    </tr>\n",
       "    <tr>\n",
       "      <th>pub_rec</th>\n",
       "      <td>0.2175</td>\n",
       "      <td>0.6029</td>\n",
       "      <td>0.0000</td>\n",
       "      <td>0.0000</td>\n",
       "      <td>86.0000</td>\n",
       "    </tr>\n",
       "    <tr>\n",
       "      <th>revol_bal</th>\n",
       "      <td>16383.6266</td>\n",
       "      <td>22777.7867</td>\n",
       "      <td>0.0000</td>\n",
       "      <td>11093.0000</td>\n",
       "      <td>2904836.0000</td>\n",
       "    </tr>\n",
       "    <tr>\n",
       "      <th>revol_util</th>\n",
       "      <td>0.5031</td>\n",
       "      <td>0.2467</td>\n",
       "      <td>0.0000</td>\n",
       "      <td>0.5030</td>\n",
       "      <td>8.9230</td>\n",
       "    </tr>\n",
       "    <tr>\n",
       "      <th>mort_acc</th>\n",
       "      <td>1.6059</td>\n",
       "      <td>1.9386</td>\n",
       "      <td>0.0000</td>\n",
       "      <td>1.0000</td>\n",
       "      <td>61.0000</td>\n",
       "    </tr>\n",
       "    <tr>\n",
       "      <th>pub_rec_bankruptcies</th>\n",
       "      <td>0.1383</td>\n",
       "      <td>0.3799</td>\n",
       "      <td>0.0000</td>\n",
       "      <td>0.0000</td>\n",
       "      <td>12.0000</td>\n",
       "    </tr>\n",
       "  </tbody>\n",
       "</table>\n",
       "</div>"
      ],
      "text/plain": [
       "                           mean         std       min        50%  \\\n",
       "loan_amnt            14700.4297   9006.9637 1000.0000 12000.0000   \n",
       "int_rate                 0.1318      0.0486    0.0531     0.1269   \n",
       "installment            443.4914    268.0072    4.9300   375.8800   \n",
       "emp_length               5.9608      3.7141    0.0000     6.0000   \n",
       "annual_inc           77744.6561 120134.5331    0.0000 65000.0000   \n",
       "dti                     18.7427     13.2970   -1.0000    17.8700   \n",
       "earliest_cr_line      1999.3869      7.8010 1933.0000  2001.0000   \n",
       "fico_range_low         697.1331     32.5018  660.0000   690.0000   \n",
       "open_acc                11.6864      5.6136    0.0000    11.0000   \n",
       "pub_rec                  0.2175      0.6029    0.0000     0.0000   \n",
       "revol_bal            16383.6266  22777.7867    0.0000 11093.0000   \n",
       "revol_util               0.5031      0.2467    0.0000     0.5030   \n",
       "mort_acc                 1.6059      1.9386    0.0000     1.0000   \n",
       "pub_rec_bankruptcies     0.1383      0.3799    0.0000     0.0000   \n",
       "\n",
       "                                max  \n",
       "loan_amnt                40000.0000  \n",
       "int_rate                     0.3099  \n",
       "installment               1719.8300  \n",
       "emp_length                  10.0000  \n",
       "annual_inc           110000000.0000  \n",
       "dti                        999.0000  \n",
       "earliest_cr_line          2016.0000  \n",
       "fico_range_low             845.0000  \n",
       "open_acc                    90.0000  \n",
       "pub_rec                     86.0000  \n",
       "revol_bal              2904836.0000  \n",
       "revol_util                   8.9230  \n",
       "mort_acc                    61.0000  \n",
       "pub_rec_bankruptcies        12.0000  "
      ]
     },
     "execution_count": 156,
     "metadata": {},
     "output_type": "execute_result"
    }
   ],
   "source": [
    "numerical_desc"
   ]
  },
  {
   "attachments": {},
   "cell_type": "markdown",
   "metadata": {},
   "source": [
    "#### ---- Interactive Loan Map by State ----"
   ]
  },
  {
   "cell_type": "code",
   "execution_count": 170,
   "metadata": {},
   "outputs": [
    {
     "data": {
      "application/vnd.plotly.v1+json": {
       "config": {
        "plotlyServerURL": "https://plot.ly"
       },
       "data": [
        {
         "colorbar": {
          "len": 1,
          "thickness": 20,
          "title": {
           "side": "right"
          },
          "x": 0.75,
          "y": 0.5
         },
         "colorscale": [
          [
           0,
           "rgb(247,251,255)"
          ],
          [
           0.125,
           "rgb(222,235,247)"
          ],
          [
           0.25,
           "rgb(198,219,239)"
          ],
          [
           0.375,
           "rgb(158,202,225)"
          ],
          [
           0.5,
           "rgb(107,174,214)"
          ],
          [
           0.625,
           "rgb(66,146,198)"
          ],
          [
           0.75,
           "rgb(33,113,181)"
          ],
          [
           0.875,
           "rgb(8,81,156)"
          ],
          [
           1,
           "rgb(8,48,107)"
          ]
         ],
         "locationmode": "USA-states",
         "locations": [
          "AK",
          "AL",
          "AR",
          "AZ",
          "CA",
          "CO",
          "CT",
          "DC",
          "DE",
          "FL",
          "GA",
          "HI",
          "IA",
          "ID",
          "IL",
          "IN",
          "KS",
          "KY",
          "LA",
          "MA",
          "MD",
          "ME",
          "MI",
          "MN",
          "MO",
          "MS",
          "MT",
          "NC",
          "ND",
          "NE",
          "NH",
          "NJ",
          "NM",
          "NV",
          "NY",
          "OH",
          "OK",
          "OR",
          "PA",
          "RI",
          "SC",
          "SD",
          "TN",
          "TX",
          "UT",
          "VA",
          "VT",
          "WA",
          "WI",
          "WV",
          "WY"
         ],
         "type": "choropleth",
         "z": [
          4068,
          21597,
          13373,
          43293,
          247546,
          38628,
          26479,
          4155,
          5015,
          126476,
          57416,
          8544,
          2,
          3291,
          68899,
          30627,
          14687,
          17087,
          19942,
          39923,
          41261,
          3564,
          46630,
          31377,
          28126,
          9891,
          4999,
          49558,
          2660,
          5980,
          8606,
          62889,
          9535,
          26502,
          141716,
          58257,
          16182,
          21382,
          59368,
          7728,
          21333,
          3578,
          29007,
          145619,
          12766,
          48720,
          3687,
          37769,
          23694,
          6126,
          3767
         ]
        }
       ],
       "layout": {
        "geo": {
         "scope": "usa"
        },
        "margin": {
         "b": 0,
         "l": 0,
         "r": 0,
         "t": 30
        },
        "template": {
         "data": {
          "bar": [
           {
            "error_x": {
             "color": "#2a3f5f"
            },
            "error_y": {
             "color": "#2a3f5f"
            },
            "marker": {
             "line": {
              "color": "#E5ECF6",
              "width": 0.5
             },
             "pattern": {
              "fillmode": "overlay",
              "size": 10,
              "solidity": 0.2
             }
            },
            "type": "bar"
           }
          ],
          "barpolar": [
           {
            "marker": {
             "line": {
              "color": "#E5ECF6",
              "width": 0.5
             },
             "pattern": {
              "fillmode": "overlay",
              "size": 10,
              "solidity": 0.2
             }
            },
            "type": "barpolar"
           }
          ],
          "carpet": [
           {
            "aaxis": {
             "endlinecolor": "#2a3f5f",
             "gridcolor": "white",
             "linecolor": "white",
             "minorgridcolor": "white",
             "startlinecolor": "#2a3f5f"
            },
            "baxis": {
             "endlinecolor": "#2a3f5f",
             "gridcolor": "white",
             "linecolor": "white",
             "minorgridcolor": "white",
             "startlinecolor": "#2a3f5f"
            },
            "type": "carpet"
           }
          ],
          "choropleth": [
           {
            "colorbar": {
             "outlinewidth": 0,
             "ticks": ""
            },
            "type": "choropleth"
           }
          ],
          "contour": [
           {
            "colorbar": {
             "outlinewidth": 0,
             "ticks": ""
            },
            "colorscale": [
             [
              0,
              "#0d0887"
             ],
             [
              0.1111111111111111,
              "#46039f"
             ],
             [
              0.2222222222222222,
              "#7201a8"
             ],
             [
              0.3333333333333333,
              "#9c179e"
             ],
             [
              0.4444444444444444,
              "#bd3786"
             ],
             [
              0.5555555555555556,
              "#d8576b"
             ],
             [
              0.6666666666666666,
              "#ed7953"
             ],
             [
              0.7777777777777778,
              "#fb9f3a"
             ],
             [
              0.8888888888888888,
              "#fdca26"
             ],
             [
              1,
              "#f0f921"
             ]
            ],
            "type": "contour"
           }
          ],
          "contourcarpet": [
           {
            "colorbar": {
             "outlinewidth": 0,
             "ticks": ""
            },
            "type": "contourcarpet"
           }
          ],
          "heatmap": [
           {
            "colorbar": {
             "outlinewidth": 0,
             "ticks": ""
            },
            "colorscale": [
             [
              0,
              "#0d0887"
             ],
             [
              0.1111111111111111,
              "#46039f"
             ],
             [
              0.2222222222222222,
              "#7201a8"
             ],
             [
              0.3333333333333333,
              "#9c179e"
             ],
             [
              0.4444444444444444,
              "#bd3786"
             ],
             [
              0.5555555555555556,
              "#d8576b"
             ],
             [
              0.6666666666666666,
              "#ed7953"
             ],
             [
              0.7777777777777778,
              "#fb9f3a"
             ],
             [
              0.8888888888888888,
              "#fdca26"
             ],
             [
              1,
              "#f0f921"
             ]
            ],
            "type": "heatmap"
           }
          ],
          "heatmapgl": [
           {
            "colorbar": {
             "outlinewidth": 0,
             "ticks": ""
            },
            "colorscale": [
             [
              0,
              "#0d0887"
             ],
             [
              0.1111111111111111,
              "#46039f"
             ],
             [
              0.2222222222222222,
              "#7201a8"
             ],
             [
              0.3333333333333333,
              "#9c179e"
             ],
             [
              0.4444444444444444,
              "#bd3786"
             ],
             [
              0.5555555555555556,
              "#d8576b"
             ],
             [
              0.6666666666666666,
              "#ed7953"
             ],
             [
              0.7777777777777778,
              "#fb9f3a"
             ],
             [
              0.8888888888888888,
              "#fdca26"
             ],
             [
              1,
              "#f0f921"
             ]
            ],
            "type": "heatmapgl"
           }
          ],
          "histogram": [
           {
            "marker": {
             "pattern": {
              "fillmode": "overlay",
              "size": 10,
              "solidity": 0.2
             }
            },
            "type": "histogram"
           }
          ],
          "histogram2d": [
           {
            "colorbar": {
             "outlinewidth": 0,
             "ticks": ""
            },
            "colorscale": [
             [
              0,
              "#0d0887"
             ],
             [
              0.1111111111111111,
              "#46039f"
             ],
             [
              0.2222222222222222,
              "#7201a8"
             ],
             [
              0.3333333333333333,
              "#9c179e"
             ],
             [
              0.4444444444444444,
              "#bd3786"
             ],
             [
              0.5555555555555556,
              "#d8576b"
             ],
             [
              0.6666666666666666,
              "#ed7953"
             ],
             [
              0.7777777777777778,
              "#fb9f3a"
             ],
             [
              0.8888888888888888,
              "#fdca26"
             ],
             [
              1,
              "#f0f921"
             ]
            ],
            "type": "histogram2d"
           }
          ],
          "histogram2dcontour": [
           {
            "colorbar": {
             "outlinewidth": 0,
             "ticks": ""
            },
            "colorscale": [
             [
              0,
              "#0d0887"
             ],
             [
              0.1111111111111111,
              "#46039f"
             ],
             [
              0.2222222222222222,
              "#7201a8"
             ],
             [
              0.3333333333333333,
              "#9c179e"
             ],
             [
              0.4444444444444444,
              "#bd3786"
             ],
             [
              0.5555555555555556,
              "#d8576b"
             ],
             [
              0.6666666666666666,
              "#ed7953"
             ],
             [
              0.7777777777777778,
              "#fb9f3a"
             ],
             [
              0.8888888888888888,
              "#fdca26"
             ],
             [
              1,
              "#f0f921"
             ]
            ],
            "type": "histogram2dcontour"
           }
          ],
          "mesh3d": [
           {
            "colorbar": {
             "outlinewidth": 0,
             "ticks": ""
            },
            "type": "mesh3d"
           }
          ],
          "parcoords": [
           {
            "line": {
             "colorbar": {
              "outlinewidth": 0,
              "ticks": ""
             }
            },
            "type": "parcoords"
           }
          ],
          "pie": [
           {
            "automargin": true,
            "type": "pie"
           }
          ],
          "scatter": [
           {
            "fillpattern": {
             "fillmode": "overlay",
             "size": 10,
             "solidity": 0.2
            },
            "type": "scatter"
           }
          ],
          "scatter3d": [
           {
            "line": {
             "colorbar": {
              "outlinewidth": 0,
              "ticks": ""
             }
            },
            "marker": {
             "colorbar": {
              "outlinewidth": 0,
              "ticks": ""
             }
            },
            "type": "scatter3d"
           }
          ],
          "scattercarpet": [
           {
            "marker": {
             "colorbar": {
              "outlinewidth": 0,
              "ticks": ""
             }
            },
            "type": "scattercarpet"
           }
          ],
          "scattergeo": [
           {
            "marker": {
             "colorbar": {
              "outlinewidth": 0,
              "ticks": ""
             }
            },
            "type": "scattergeo"
           }
          ],
          "scattergl": [
           {
            "marker": {
             "colorbar": {
              "outlinewidth": 0,
              "ticks": ""
             }
            },
            "type": "scattergl"
           }
          ],
          "scattermapbox": [
           {
            "marker": {
             "colorbar": {
              "outlinewidth": 0,
              "ticks": ""
             }
            },
            "type": "scattermapbox"
           }
          ],
          "scatterpolar": [
           {
            "marker": {
             "colorbar": {
              "outlinewidth": 0,
              "ticks": ""
             }
            },
            "type": "scatterpolar"
           }
          ],
          "scatterpolargl": [
           {
            "marker": {
             "colorbar": {
              "outlinewidth": 0,
              "ticks": ""
             }
            },
            "type": "scatterpolargl"
           }
          ],
          "scatterternary": [
           {
            "marker": {
             "colorbar": {
              "outlinewidth": 0,
              "ticks": ""
             }
            },
            "type": "scatterternary"
           }
          ],
          "surface": [
           {
            "colorbar": {
             "outlinewidth": 0,
             "ticks": ""
            },
            "colorscale": [
             [
              0,
              "#0d0887"
             ],
             [
              0.1111111111111111,
              "#46039f"
             ],
             [
              0.2222222222222222,
              "#7201a8"
             ],
             [
              0.3333333333333333,
              "#9c179e"
             ],
             [
              0.4444444444444444,
              "#bd3786"
             ],
             [
              0.5555555555555556,
              "#d8576b"
             ],
             [
              0.6666666666666666,
              "#ed7953"
             ],
             [
              0.7777777777777778,
              "#fb9f3a"
             ],
             [
              0.8888888888888888,
              "#fdca26"
             ],
             [
              1,
              "#f0f921"
             ]
            ],
            "type": "surface"
           }
          ],
          "table": [
           {
            "cells": {
             "fill": {
              "color": "#EBF0F8"
             },
             "line": {
              "color": "white"
             }
            },
            "header": {
             "fill": {
              "color": "#C8D4E3"
             },
             "line": {
              "color": "white"
             }
            },
            "type": "table"
           }
          ]
         },
         "layout": {
          "annotationdefaults": {
           "arrowcolor": "#2a3f5f",
           "arrowhead": 0,
           "arrowwidth": 1
          },
          "autotypenumbers": "strict",
          "coloraxis": {
           "colorbar": {
            "outlinewidth": 0,
            "ticks": ""
           }
          },
          "colorscale": {
           "diverging": [
            [
             0,
             "#8e0152"
            ],
            [
             0.1,
             "#c51b7d"
            ],
            [
             0.2,
             "#de77ae"
            ],
            [
             0.3,
             "#f1b6da"
            ],
            [
             0.4,
             "#fde0ef"
            ],
            [
             0.5,
             "#f7f7f7"
            ],
            [
             0.6,
             "#e6f5d0"
            ],
            [
             0.7,
             "#b8e186"
            ],
            [
             0.8,
             "#7fbc41"
            ],
            [
             0.9,
             "#4d9221"
            ],
            [
             1,
             "#276419"
            ]
           ],
           "sequential": [
            [
             0,
             "#0d0887"
            ],
            [
             0.1111111111111111,
             "#46039f"
            ],
            [
             0.2222222222222222,
             "#7201a8"
            ],
            [
             0.3333333333333333,
             "#9c179e"
            ],
            [
             0.4444444444444444,
             "#bd3786"
            ],
            [
             0.5555555555555556,
             "#d8576b"
            ],
            [
             0.6666666666666666,
             "#ed7953"
            ],
            [
             0.7777777777777778,
             "#fb9f3a"
            ],
            [
             0.8888888888888888,
             "#fdca26"
            ],
            [
             1,
             "#f0f921"
            ]
           ],
           "sequentialminus": [
            [
             0,
             "#0d0887"
            ],
            [
             0.1111111111111111,
             "#46039f"
            ],
            [
             0.2222222222222222,
             "#7201a8"
            ],
            [
             0.3333333333333333,
             "#9c179e"
            ],
            [
             0.4444444444444444,
             "#bd3786"
            ],
            [
             0.5555555555555556,
             "#d8576b"
            ],
            [
             0.6666666666666666,
             "#ed7953"
            ],
            [
             0.7777777777777778,
             "#fb9f3a"
            ],
            [
             0.8888888888888888,
             "#fdca26"
            ],
            [
             1,
             "#f0f921"
            ]
           ]
          },
          "colorway": [
           "#636efa",
           "#EF553B",
           "#00cc96",
           "#ab63fa",
           "#FFA15A",
           "#19d3f3",
           "#FF6692",
           "#B6E880",
           "#FF97FF",
           "#FECB52"
          ],
          "font": {
           "color": "#2a3f5f"
          },
          "geo": {
           "bgcolor": "white",
           "lakecolor": "white",
           "landcolor": "#E5ECF6",
           "showlakes": true,
           "showland": true,
           "subunitcolor": "white"
          },
          "hoverlabel": {
           "align": "left"
          },
          "hovermode": "closest",
          "mapbox": {
           "style": "light"
          },
          "paper_bgcolor": "white",
          "plot_bgcolor": "#E5ECF6",
          "polar": {
           "angularaxis": {
            "gridcolor": "white",
            "linecolor": "white",
            "ticks": ""
           },
           "bgcolor": "#E5ECF6",
           "radialaxis": {
            "gridcolor": "white",
            "linecolor": "white",
            "ticks": ""
           }
          },
          "scene": {
           "xaxis": {
            "backgroundcolor": "#E5ECF6",
            "gridcolor": "white",
            "gridwidth": 2,
            "linecolor": "white",
            "showbackground": true,
            "ticks": "",
            "zerolinecolor": "white"
           },
           "yaxis": {
            "backgroundcolor": "#E5ECF6",
            "gridcolor": "white",
            "gridwidth": 2,
            "linecolor": "white",
            "showbackground": true,
            "ticks": "",
            "zerolinecolor": "white"
           },
           "zaxis": {
            "backgroundcolor": "#E5ECF6",
            "gridcolor": "white",
            "gridwidth": 2,
            "linecolor": "white",
            "showbackground": true,
            "ticks": "",
            "zerolinecolor": "white"
           }
          },
          "shapedefaults": {
           "line": {
            "color": "#2a3f5f"
           }
          },
          "ternary": {
           "aaxis": {
            "gridcolor": "white",
            "linecolor": "white",
            "ticks": ""
           },
           "baxis": {
            "gridcolor": "white",
            "linecolor": "white",
            "ticks": ""
           },
           "bgcolor": "#E5ECF6",
           "caxis": {
            "gridcolor": "white",
            "linecolor": "white",
            "ticks": ""
           }
          },
          "title": {
           "x": 0.05
          },
          "xaxis": {
           "automargin": true,
           "gridcolor": "white",
           "linecolor": "white",
           "ticks": "",
           "title": {
            "standoff": 15
           },
           "zerolinecolor": "white",
           "zerolinewidth": 2
          },
          "yaxis": {
           "automargin": true,
           "gridcolor": "white",
           "linecolor": "white",
           "ticks": "",
           "title": {
            "standoff": 15
           },
           "zerolinecolor": "white",
           "zerolinewidth": 2
          }
         }
        },
        "title": {
         "x": 0.5,
         "y": 0.95
        }
       }
      }
     },
     "metadata": {},
     "output_type": "display_data"
    }
   ],
   "source": [
    "loans_by_state = df_historical_clean.groupby(['addr_state'], as_index = False).size()\n",
    "\n",
    "fig = go.Figure(\n",
    "    data = go.Choropleth(\n",
    "        locations = list(loans_by_state['addr_state'].values),\n",
    "        z = list(loans_by_state['size'].values),\n",
    "        locationmode = 'USA-states',\n",
    "        colorscale = 'Blues',\n",
    "        colorbar = dict(\n",
    "            x = 0.75,\n",
    "            y = 0.5,  \n",
    "            len = 1,  \n",
    "            thickness = 20,  \n",
    "            titleside = 'right'\n",
    "        )\n",
    "))\n",
    "\n",
    "fig.update_layout(\n",
    "    # title_text = 'Loans Given per State',\n",
    "    title_x = 0.5,  \n",
    "    title_y = 0.95,\n",
    "    geo_scope = 'usa',\n",
    "    margin = dict(l = 0, r = 0, t = 30, b = 0)\n",
    ")\n"
   ]
  },
  {
   "attachments": {},
   "cell_type": "markdown",
   "metadata": {},
   "source": [
    "#### ---- Correlation Matrix - Numerical Features ----"
   ]
  },
  {
   "cell_type": "code",
   "execution_count": 44,
   "metadata": {},
   "outputs": [
    {
     "data": {
      "text/html": [
       "<div>\n",
       "<style scoped>\n",
       "    .dataframe tbody tr th:only-of-type {\n",
       "        vertical-align: middle;\n",
       "    }\n",
       "\n",
       "    .dataframe tbody tr th {\n",
       "        vertical-align: top;\n",
       "    }\n",
       "\n",
       "    .dataframe thead th {\n",
       "        text-align: right;\n",
       "    }\n",
       "</style>\n",
       "<table border=\"1\" class=\"dataframe\">\n",
       "  <thead>\n",
       "    <tr style=\"text-align: right;\">\n",
       "      <th></th>\n",
       "      <th>id</th>\n",
       "      <th>issue_d</th>\n",
       "      <th>grade</th>\n",
       "      <th>sub_grade</th>\n",
       "      <th>loan_status</th>\n",
       "      <th>loan_amnt</th>\n",
       "      <th>term</th>\n",
       "      <th>int_rate</th>\n",
       "      <th>installment</th>\n",
       "      <th>emp_length</th>\n",
       "      <th>home_ownership</th>\n",
       "      <th>annual_inc</th>\n",
       "      <th>verification_status</th>\n",
       "      <th>purpose</th>\n",
       "      <th>addr_state</th>\n",
       "      <th>dti</th>\n",
       "      <th>earliest_cr_line</th>\n",
       "      <th>fico_range_low</th>\n",
       "      <th>open_acc</th>\n",
       "      <th>pub_rec</th>\n",
       "      <th>revol_bal</th>\n",
       "      <th>revol_util</th>\n",
       "      <th>initial_list_status</th>\n",
       "      <th>application_type</th>\n",
       "      <th>mort_acc</th>\n",
       "      <th>pub_rec_bankruptcies</th>\n",
       "      <th>year</th>\n",
       "    </tr>\n",
       "  </thead>\n",
       "  <tbody>\n",
       "    <tr>\n",
       "      <th>42536</th>\n",
       "      <td>10129454</td>\n",
       "      <td>2013-12-01</td>\n",
       "      <td>B</td>\n",
       "      <td>B2</td>\n",
       "      <td>Fully Paid</td>\n",
       "      <td>12000.0</td>\n",
       "      <td>36</td>\n",
       "      <td>0.1099</td>\n",
       "      <td>392.81</td>\n",
       "      <td>4.0</td>\n",
       "      <td>RENT</td>\n",
       "      <td>60000.0</td>\n",
       "      <td>Not Verified</td>\n",
       "      <td>debt_consolidation</td>\n",
       "      <td>NC</td>\n",
       "      <td>4.62</td>\n",
       "      <td>2009</td>\n",
       "      <td>720.0</td>\n",
       "      <td>15.0</td>\n",
       "      <td>0.0</td>\n",
       "      <td>7137.0</td>\n",
       "      <td>0.240</td>\n",
       "      <td>f</td>\n",
       "      <td>Individual</td>\n",
       "      <td>0.0</td>\n",
       "      <td>0.0</td>\n",
       "      <td>2013</td>\n",
       "    </tr>\n",
       "    <tr>\n",
       "      <th>42537</th>\n",
       "      <td>10149488</td>\n",
       "      <td>2013-12-01</td>\n",
       "      <td>B</td>\n",
       "      <td>B2</td>\n",
       "      <td>Fully Paid</td>\n",
       "      <td>4800.0</td>\n",
       "      <td>36</td>\n",
       "      <td>0.1099</td>\n",
       "      <td>157.13</td>\n",
       "      <td>2.0</td>\n",
       "      <td>MORTGAGE</td>\n",
       "      <td>39600.0</td>\n",
       "      <td>Source Verified</td>\n",
       "      <td>home_improvement</td>\n",
       "      <td>TX</td>\n",
       "      <td>2.49</td>\n",
       "      <td>1995</td>\n",
       "      <td>755.0</td>\n",
       "      <td>3.0</td>\n",
       "      <td>0.0</td>\n",
       "      <td>4136.0</td>\n",
       "      <td>0.161</td>\n",
       "      <td>w</td>\n",
       "      <td>Individual</td>\n",
       "      <td>0.0</td>\n",
       "      <td>0.0</td>\n",
       "      <td>2013</td>\n",
       "    </tr>\n",
       "    <tr>\n",
       "      <th>42538</th>\n",
       "      <td>10149342</td>\n",
       "      <td>2013-12-01</td>\n",
       "      <td>B</td>\n",
       "      <td>B2</td>\n",
       "      <td>Fully Paid</td>\n",
       "      <td>27050.0</td>\n",
       "      <td>36</td>\n",
       "      <td>0.1099</td>\n",
       "      <td>885.46</td>\n",
       "      <td>10.0</td>\n",
       "      <td>OWN</td>\n",
       "      <td>55000.0</td>\n",
       "      <td>Verified</td>\n",
       "      <td>debt_consolidation</td>\n",
       "      <td>MI</td>\n",
       "      <td>22.87</td>\n",
       "      <td>1986</td>\n",
       "      <td>730.0</td>\n",
       "      <td>14.0</td>\n",
       "      <td>0.0</td>\n",
       "      <td>36638.0</td>\n",
       "      <td>0.612</td>\n",
       "      <td>w</td>\n",
       "      <td>Individual</td>\n",
       "      <td>4.0</td>\n",
       "      <td>0.0</td>\n",
       "      <td>2013</td>\n",
       "    </tr>\n",
       "    <tr>\n",
       "      <th>42539</th>\n",
       "      <td>10148122</td>\n",
       "      <td>2013-12-01</td>\n",
       "      <td>A</td>\n",
       "      <td>A3</td>\n",
       "      <td>Fully Paid</td>\n",
       "      <td>12000.0</td>\n",
       "      <td>36</td>\n",
       "      <td>0.0762</td>\n",
       "      <td>373.94</td>\n",
       "      <td>3.0</td>\n",
       "      <td>MORTGAGE</td>\n",
       "      <td>96500.0</td>\n",
       "      <td>Not Verified</td>\n",
       "      <td>debt_consolidation</td>\n",
       "      <td>TX</td>\n",
       "      <td>12.61</td>\n",
       "      <td>2003</td>\n",
       "      <td>705.0</td>\n",
       "      <td>17.0</td>\n",
       "      <td>0.0</td>\n",
       "      <td>13248.0</td>\n",
       "      <td>0.557</td>\n",
       "      <td>f</td>\n",
       "      <td>Individual</td>\n",
       "      <td>1.0</td>\n",
       "      <td>0.0</td>\n",
       "      <td>2013</td>\n",
       "    </tr>\n",
       "    <tr>\n",
       "      <th>42540</th>\n",
       "      <td>10129477</td>\n",
       "      <td>2013-12-01</td>\n",
       "      <td>B</td>\n",
       "      <td>B4</td>\n",
       "      <td>Fully Paid</td>\n",
       "      <td>14000.0</td>\n",
       "      <td>36</td>\n",
       "      <td>0.1285</td>\n",
       "      <td>470.71</td>\n",
       "      <td>4.0</td>\n",
       "      <td>RENT</td>\n",
       "      <td>88000.0</td>\n",
       "      <td>Not Verified</td>\n",
       "      <td>debt_consolidation</td>\n",
       "      <td>NC</td>\n",
       "      <td>10.02</td>\n",
       "      <td>1988</td>\n",
       "      <td>670.0</td>\n",
       "      <td>6.0</td>\n",
       "      <td>1.0</td>\n",
       "      <td>3686.0</td>\n",
       "      <td>0.819</td>\n",
       "      <td>f</td>\n",
       "      <td>Individual</td>\n",
       "      <td>0.0</td>\n",
       "      <td>1.0</td>\n",
       "      <td>2013</td>\n",
       "    </tr>\n",
       "  </tbody>\n",
       "</table>\n",
       "</div>"
      ],
      "text/plain": [
       "             id    issue_d grade sub_grade loan_status  loan_amnt  term  \\\n",
       "42536  10129454 2013-12-01     B        B2  Fully Paid    12000.0    36   \n",
       "42537  10149488 2013-12-01     B        B2  Fully Paid     4800.0    36   \n",
       "42538  10149342 2013-12-01     B        B2  Fully Paid    27050.0    36   \n",
       "42539  10148122 2013-12-01     A        A3  Fully Paid    12000.0    36   \n",
       "42540  10129477 2013-12-01     B        B4  Fully Paid    14000.0    36   \n",
       "\n",
       "       int_rate  installment  emp_length home_ownership  annual_inc  \\\n",
       "42536    0.1099       392.81         4.0           RENT     60000.0   \n",
       "42537    0.1099       157.13         2.0       MORTGAGE     39600.0   \n",
       "42538    0.1099       885.46        10.0            OWN     55000.0   \n",
       "42539    0.0762       373.94         3.0       MORTGAGE     96500.0   \n",
       "42540    0.1285       470.71         4.0           RENT     88000.0   \n",
       "\n",
       "      verification_status             purpose addr_state    dti  \\\n",
       "42536        Not Verified  debt_consolidation         NC   4.62   \n",
       "42537     Source Verified    home_improvement         TX   2.49   \n",
       "42538            Verified  debt_consolidation         MI  22.87   \n",
       "42539        Not Verified  debt_consolidation         TX  12.61   \n",
       "42540        Not Verified  debt_consolidation         NC  10.02   \n",
       "\n",
       "       earliest_cr_line  fico_range_low  open_acc  pub_rec  revol_bal  \\\n",
       "42536              2009           720.0      15.0      0.0     7137.0   \n",
       "42537              1995           755.0       3.0      0.0     4136.0   \n",
       "42538              1986           730.0      14.0      0.0    36638.0   \n",
       "42539              2003           705.0      17.0      0.0    13248.0   \n",
       "42540              1988           670.0       6.0      1.0     3686.0   \n",
       "\n",
       "       revol_util initial_list_status application_type  mort_acc  \\\n",
       "42536       0.240                   f       Individual       0.0   \n",
       "42537       0.161                   w       Individual       0.0   \n",
       "42538       0.612                   w       Individual       4.0   \n",
       "42539       0.557                   f       Individual       1.0   \n",
       "42540       0.819                   f       Individual       0.0   \n",
       "\n",
       "       pub_rec_bankruptcies  year  \n",
       "42536                   0.0  2013  \n",
       "42537                   0.0  2013  \n",
       "42538                   0.0  2013  \n",
       "42539                   0.0  2013  \n",
       "42540                   1.0  2013  "
      ]
     },
     "execution_count": 44,
     "metadata": {},
     "output_type": "execute_result"
    }
   ],
   "source": [
    "df_historical_clean.head()"
   ]
  },
  {
   "cell_type": "code",
   "execution_count": 45,
   "metadata": {},
   "outputs": [],
   "source": [
    "corr = df_historical_clean[['loan_amnt', 'term', 'int_rate', 'installment', 'emp_length',\n",
    "                            'annual_inc', 'dti', 'earliest_cr_line', 'fico_range_low', 'open_acc',\n",
    "                            'pub_rec', 'revol_bal', 'revol_util', 'mort_acc', 'pub_rec_bankruptcies']].corr()"
   ]
  },
  {
   "cell_type": "code",
   "execution_count": 182,
   "metadata": {},
   "outputs": [
    {
     "data": {
      "image/png": "[encoded data removed]",
      "text/plain": [
       "<Figure size 1000x800 with 2 Axes>"
      ]
     },
     "metadata": {},
     "output_type": "display_data"
    }
   ],
   "source": [
    "corr = df_historical_clean[['loan_amnt', 'term', 'int_rate', 'installment', 'emp_length',\n",
    "                            'annual_inc', 'dti', 'earliest_cr_line', 'fico_range_low', 'open_acc',\n",
    "                            'pub_rec', 'revol_bal', 'revol_util', 'mort_acc', 'pub_rec_bankruptcies']].corr()\n",
    "sns.set_style('white')\n",
    "plt.figure(figsize = (10, 8))\n",
    "mask = np.triu(corr)\n",
    "np.fill_diagonal(mask, False)\n",
    "heatmap = sns.heatmap(corr, annot = True, cmap = 'Blues', fmt = '.2f', mask = mask)\n",
    "np.fill_diagonal(mask, False)\n",
    "heatmap.set_xticklabels(heatmap.get_xticklabels(), rotation=45, ha = 'right', fontsize = 10)\n",
    "heatmap.set_yticklabels(heatmap.get_yticklabels(), fontsize = 10)\n",
    "# plt.title('Correlation Matrix: Numerical Features', fontsize = 14)\n",
    "plt.show()"
   ]
  },
  {
   "attachments": {},
   "cell_type": "markdown",
   "metadata": {},
   "source": [
    "#### ---- Interest Rates by Fico Bin ----"
   ]
  },
  {
   "cell_type": "code",
   "execution_count": 47,
   "metadata": {},
   "outputs": [
    {
     "data": {
      "text/plain": [
       "count    1.763325e+06\n",
       "mean     6.971331e+02\n",
       "std      3.250184e+01\n",
       "min      6.600000e+02\n",
       "25%      6.700000e+02\n",
       "50%      6.900000e+02\n",
       "75%      7.150000e+02\n",
       "max      8.450000e+02\n",
       "Name: fico_range_low, dtype: float64"
      ]
     },
     "execution_count": 47,
     "metadata": {},
     "output_type": "execute_result"
    }
   ],
   "source": [
    "df_historical_clean['fico_range_low'].describe()"
   ]
  },
  {
   "cell_type": "code",
   "execution_count": 48,
   "metadata": {},
   "outputs": [
    {
     "name": "stderr",
     "output_type": "stream",
     "text": [
      "/var/folders/l4/5vxm_0lj2qb6s9k_56jbryjr0000gn/T/ipykernel_92386/300328975.py:4: SettingWithCopyWarning:\n",
      "\n",
      "\n",
      "A value is trying to be set on a copy of a slice from a DataFrame.\n",
      "Try using .loc[row_indexer,col_indexer] = value instead\n",
      "\n",
      "See the caveats in the documentation: https://pandas.pydata.org/pandas-docs/stable/user_guide/indexing.html#returning-a-view-versus-a-copy\n",
      "\n"
     ]
    }
   ],
   "source": [
    "fico_bins = [650, 700, 750, 800, 850]\n",
    "df_historical_clean['fico_bin'] = pd.cut(df_historical_clean['fico_range_low'], fico_bins)\n",
    "int_fico = df_historical_clean[['issue_d', 'int_rate', 'fico_range_low', 'fico_bin']]\n",
    "int_fico['issue_d'] = pd.to_datetime(int_fico['issue_d']).dt.year\n",
    "int_fico = int_fico.dropna()"
   ]
  },
  {
   "cell_type": "code",
   "execution_count": 160,
   "metadata": {},
   "outputs": [
    {
     "data": {
      "image/png": "[encoded data removed]",
      "text/plain": [
       "<Figure size 1200x800 with 1 Axes>"
      ]
     },
     "metadata": {},
     "output_type": "display_data"
    }
   ],
   "source": [
    "plt.figure(figsize = (12, 8))\n",
    "sns.lineplot(data = int_fico, x = 'issue_d', y = 'int_rate', hue = 'fico_bin')\n",
    "# plt.title('Interest Rates for Different Fico Bins Across Time')\n",
    "legend = plt.legend(loc = 'upper right', bbox_to_anchor = (1.15, 1), frameon = False)\n",
    "plt.show()"
   ]
  },
  {
   "cell_type": "code",
   "execution_count": null,
   "metadata": {},
   "outputs": [],
   "source": []
  }
 ],
 "metadata": {
  "kernelspec": {
   "display_name": "thesis",
   "language": "python",
   "name": "python3"
  },
  "language_info": {
   "codemirror_mode": {
    "name": "ipython",
    "version": 3
   },
   "file_extension": ".py",
   "mimetype": "text/x-python",
   "name": "python",
   "nbconvert_exporter": "python",
   "pygments_lexer": "ipython3",
   "version": "3.9.12"
  },
  "orig_nbformat": 4
 },
 "nbformat": 4,
 "nbformat_minor": 2
}
